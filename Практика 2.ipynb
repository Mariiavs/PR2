{
 "cells": [
  {
   "cell_type": "markdown",
   "id": "1c2f9abc",
   "metadata": {},
   "source": [
    "<h3>Программное обеспечение проверки криптостойкости паролей с использованием атаки методом грубой силы</h3>\n",
    "\n",
    "<p>Найдите с помощью алгоритма полного перебора пятибуквенные пароли, соответствующие следующим хэш-значенияи SHA-256 и выведите их на экран:</p>\n",
    "\n",
    "<ul>\n",
    "<li>1115dd800feaacefdf481f1f9070374a2a81e27880f187396db67958b207cbad</li>\n",
    "<li>3a7bd3e2360a3d29eea436fcfb7e44c735d117c42d1c1835420b6b9942dd4f1b</li>\n",
    "<li>74e1bb62f8dabb8125a58852b63bdf6eaef667cb56ac7f7cdba6d7305c50a22f</li>\n",
    "</ul>\n",
    "\n",
    "<p>Хэш значения могут считываться из файла или непосредственно с консоли (формы для ввода хэш-значения)</p>\n",
    "\n",
    "<p>Ваша программа должна перебрать все возможные пароли, состоящие только из пяти строчных букв английского алфавита ASCII.</p>\n",
    "\n",
    "<p>Программа должна иметь возможность запуска перебора в однопоточном режиме или в многопоточном режиме (Количество потоков может задаваться пользователем). Для кажого режима необходимо выводить затраченное время на подбор.</p>"
   ]
  },
  {
   "cell_type": "code",
   "execution_count": 76,
   "id": "d66a82d5",
   "metadata": {},
   "outputs": [
    {
     "name": "stdout",
     "output_type": "stream",
     "text": [
      "Введите данные: 3a7bd3e2360a3d29eea436fcfb7e44c735d117c42d1c1835420b6b9942dd4f1b\n",
      "Количество потоков: 2\n",
      "[14, 26] [0, 14]\n",
      "apple\n",
      "0:00:00.239020\n"
     ]
    }
   ],
   "source": [
    "import hashlib\n",
    "import string\n",
    "from threading import Thread\n",
    "from datetime import datetime\n",
    "\n",
    "st = string.ascii_lowercase\n",
    "#sh1 = \"1115dd800feaacefdf481f1f9070374a2a81e27880f187396db67958b207cbad\"\n",
    "#sh2 = \"3a7bd3e2360a3d29eea436fcfb7e44c735d117c42d1c1835420b6b9942dd4f1b\"\n",
    "#sh3 = \"74e1bb62f8dabb8125a58852b63bdf6eaef667cb56ac7f7cdba6d7305c50a22f\"\n",
    "\n",
    "def func(sh, n, k):\n",
    "    start_time = datetime.now()\n",
    "    for s1 in st:\n",
    "        for s2 in st:\n",
    "            for s3 in st:\n",
    "                for s4 in st:\n",
    "                    for s5 in st[k:n:1]:\n",
    "                        s = s1+s2+s3+s4+s5\n",
    "\n",
    "                        if (hashlib.sha256(s.encode('utf-8')).hexdigest() == sh):\n",
    "                            print(s)\n",
    "                            print(datetime.now() - start_time)\n",
    "\n",
    "                            \n",
    "sh = input('Введите данные: ')\n",
    "l = int(input('Количество потоков: '))\n",
    "\n",
    "f=0\n",
    "i=0\n",
    "\n",
    "k=[0 for i in range(int(l))]\n",
    "n = [0 for i in range(int(l))]\n",
    "j = int(26//int(l))\n",
    "\n",
    "for i in range(l):\n",
    "    k[i] = f\n",
    "    if f+j >= 26:\n",
    "        f = 25\n",
    "    else:\n",
    "        f+=j\n",
    "    n[i] = f+1\n",
    "    f+=1\n",
    "    i+=1\n",
    "\n",
    "#print(n, k)\n",
    "\n",
    "for i in range(l):\n",
    "    th = Thread(target=func, args=(sh,n[i],k[i]))\n",
    "    th.start()\n",
    "    th.join()\n"
   ]
  }
 ],
 "metadata": {
  "kernelspec": {
   "display_name": "Python 3 (ipykernel)",
   "language": "python",
   "name": "python3"
  },
  "language_info": {
   "codemirror_mode": {
    "name": "ipython",
    "version": 3
   },
   "file_extension": ".py",
   "mimetype": "text/x-python",
   "name": "python",
   "nbconvert_exporter": "python",
   "pygments_lexer": "ipython3",
   "version": "3.9.7"
  }
 },
 "nbformat": 4,
 "nbformat_minor": 5
}
